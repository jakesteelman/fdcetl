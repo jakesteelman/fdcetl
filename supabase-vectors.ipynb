{
 "cells": [
  {
   "cell_type": "code",
   "execution_count": 9,
   "id": "83614e5f-9203-4feb-a08f-b75603a27f62",
   "metadata": {},
   "outputs": [
    {
     "name": "stdout",
     "output_type": "stream",
     "text": [
      "Note: you may need to restart the kernel to use updated packages.\n"
     ]
    }
   ],
   "source": [
    "%pip install -qqqU supabase openai python-dotenv"
   ]
  },
  {
   "cell_type": "code",
   "execution_count": 48,
   "id": "64ad7ca6-7176-4f4c-857a-3465eb7c445f",
   "metadata": {},
   "outputs": [],
   "source": [
    "from openai import OpenAI\n",
    "from supabase import create_client\n",
    "import numpy as np\n",
    "import json\n",
    "import os\n",
    "from dotenv import load_dotenv"
   ]
  },
  {
   "cell_type": "code",
   "execution_count": 49,
   "id": "0c77452d-2067-40bd-8d9b-e6f92de6ce9a",
   "metadata": {},
   "outputs": [],
   "source": [
    "load_dotenv()\n",
    "\n",
    "# Initialize Supabase client\n",
    "SUPABASE_URL = os.getenv(\"SUPABASE_URL\")\n",
    "SUPABASE_KEY = os.getenv(\"SUPABASE_KEY\")\n",
    "supabase = create_client(supabase_url=SUPABASE_URL, supabase_key=SUPABASE_KEY)"
   ]
  },
  {
   "cell_type": "code",
   "execution_count": 12,
   "id": "789efe8a-1fd6-4f37-86e4-5c974a40edcd",
   "metadata": {},
   "outputs": [],
   "source": [
    "# OpenAI API key\n",
    "openai.api_key = os.getenv(\"OPENAI_API_KEY\")\n",
    "\n",
    "# Define the table and query size\n",
    "TABLE_NAME = \"usda_foods\"\n",
    "BATCH_SIZE = 300\n"
   ]
  },
  {
   "cell_type": "code",
   "execution_count": 60,
   "id": "2a2fcbf0-f9ce-41fa-a7d0-b72de890e11b",
   "metadata": {},
   "outputs": [],
   "source": [
    "# Fetch rows from the Supabase table\n",
    "def fetch_food_names():\n",
    "    response = supabase.table(TABLE_NAME).select(\"fdc_id, name\").is_(\"embedding\", None).limit(BATCH_SIZE).execute()\n",
    "    if response.data:\n",
    "        return response.data\n",
    "    elif response.error:\n",
    "        print(f\"Error fetching rows: {response.error}\")\n",
    "        return []"
   ]
  },
  {
   "cell_type": "code",
   "execution_count": 61,
   "id": "bece33ce-481e-471f-b4e2-0dc4227e7b1b",
   "metadata": {},
   "outputs": [],
   "source": [
    "# Generate embeddings using OpenAI API\n",
    "def generate_embeddings(food_names):\n",
    "    try:\n",
    "        client = OpenAI()\n",
    "        response = client.embeddings.create(\n",
    "            model=\"text-embedding-3-small\",\n",
    "            input=food_names\n",
    "        )\n",
    "        data = response.data\n",
    "        return [embedding.embedding for embedding in data]\n",
    "    except Exception as e:\n",
    "        print(f\"Error generating embeddings: {e}\")\n",
    "        return []"
   ]
  },
  {
   "cell_type": "code",
   "execution_count": 68,
   "id": "bad73535-4eda-40b2-ad62-6305c2770a6d",
   "metadata": {},
   "outputs": [],
   "source": [
    "# Update embeddings in the Supabase table\n",
    "def update_embeddings(rows, embeddings):\n",
    "    for row, embedding in zip(rows, embeddings):\n",
    "        try:\n",
    "            embedding_json = json.dumps(embedding)\n",
    "            response = supabase.table(TABLE_NAME).update({\"embedding\": embedding_json}).eq(\"fdc_id\", row[\"fdc_id\"]).execute()\n",
    "            if response.__dict__.get('error'):\n",
    "                print(f\"Error updating row {row['fdc_id']}: {response__dict__.get('error')}\")\n",
    "        except Exception as e:\n",
    "            print(f\"Error updating row {row['fdc_id']}: {e}\")"
   ]
  },
  {
   "cell_type": "code",
   "execution_count": null,
   "id": "03e50a56-a188-4993-bd7f-d003e4f8aeac",
   "metadata": {},
   "outputs": [],
   "source": [
    "# Step 1: Fetch rows\n",
    "rows = fetch_food_names()\n",
    "if not rows:\n",
    "    print(\"No rows fetched, exiting...\")\n",
    "    pass\n",
    "\n",
    "# Step 2: Extract names and generate embeddings\n",
    "food_names = [row[\"name\"] for row in rows]\n",
    "embeddings = generate_embeddings(food_names)\n",
    "if not embeddings:\n",
    "    print(\"No embeddings generated, exiting...\")\n",
    "    pass\n",
    "\n",
    "# Step 3: Update rows with embeddings\n",
    "update_embeddings(rows, embeddings)\n",
    "print(\"Embeddings successfully updated.\")"
   ]
  },
  {
   "cell_type": "code",
   "execution_count": null,
   "id": "7fe5649e-52b4-477d-8c82-45f51fb77f15",
   "metadata": {},
   "outputs": [],
   "source": []
  }
 ],
 "metadata": {
  "kernelspec": {
   "display_name": "Python 3 (ipykernel)",
   "language": "python",
   "name": "python3"
  },
  "language_info": {
   "codemirror_mode": {
    "name": "ipython",
    "version": 3
   },
   "file_extension": ".py",
   "mimetype": "text/x-python",
   "name": "python",
   "nbconvert_exporter": "python",
   "pygments_lexer": "ipython3",
   "version": "3.12.7"
  }
 },
 "nbformat": 4,
 "nbformat_minor": 5
}
